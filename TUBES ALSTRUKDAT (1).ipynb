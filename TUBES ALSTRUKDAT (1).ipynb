{
 "cells": [
  {
   "cell_type": "code",
   "execution_count": 16,
   "id": "cfaccf0d",
   "metadata": {},
   "outputs": [],
   "source": [
    "class Hewan():\n",
    "    def __init__(self, id_jenis_hewan, nama_jenis_hewan, ciri_hewan):\n",
    "        self.id_jenis_hewan = id_jenis_hewan\n",
    "        self.nama_jenis_hewan = nama_jenis_hewan\n",
    "        self.ciri_hewan = ciri_hewan\n",
    "        \n",
    "    def suara_hewan(self):\n",
    "        return 'Suara Hewan'\n",
    "\n",
    "    def berjalan_hewan(self):\n",
    "        return 'Gerak Hewan'\n",
    "\n",
    "class Singa(Hewan):\n",
    "    def __init__(self, id_jenis_hewan, nama_jenis_hewan, ciri_hewan, id_singa, nama_singa):\n",
    "        super().__init__( id_jenis_hewan, nama_jenis_hewan, ciri_hewan)\n",
    "        self.id_singa = id_singa\n",
    "        self.nama_singa = nama_singa\n",
    "  \n",
    "    def suara_hewan(self):\n",
    "        return super().suara_hewan(), 'Roarrrr'\n",
    "\n",
    "    def berjalan_hewan(self):\n",
    "        return super().berjalan_hewan(), 'Bergerak dengan 4 Kaki'\n",
    "\n",
    "    def bernafas_hewan(self):\n",
    "        print('Singa bernafas menggunakan paru-paru')\n",
    "    \n",
    "class Elang(Hewan):\n",
    "    def __init__(self, id_jenis_hewan, nama_jenis_hewan, ciri_hewan, id_elang, nama_elang):\n",
    "        super().__init__( id_jenis_hewan, nama_jenis_hewan, ciri_hewan)\n",
    "        self.id_elang = id_elang\n",
    "        self.nama_elang = nama_elang\n",
    "    def suara_hewan(self):\n",
    "        return super().suara_hewan(), 'Eungiiiiiiiiiik'\n",
    "\n",
    "    def berjalan_hewan(self):\n",
    "        return super().berjalan_hewan(), 'Bergerak dengan sayap dan 2 kaki'\n",
    "\n",
    "    def bernafas_hewan(self):\n",
    "        print('Elang bernafas menggunakan paru-paru')\n",
    "    \n",
    "class Lebah(Hewan):\n",
    "    def __init__(self, id_jenis_hewan, nama_jenis_hewan, ciri_hewan, id_lebah, nama_lebah):\n",
    "        super().__init__( id_jenis_hewan, nama_jenis_hewan, ciri_hewan)\n",
    "        self.id_lebah = id_lebah\n",
    "        self.nama_lebah = nama_lebah\n",
    "  \n",
    "    def suara_hewan(self):\n",
    "        return super().suara_hewan(), 'Eeeezzzz'\n",
    "\n",
    "    def berjalan_hewan(self):\n",
    "        return super().berjalan_hewan(), 'Bergerak seperti angka 8'\n",
    "\n",
    "    def bernafas_hewan(self):\n",
    "        print('Lebah bernafas menggunakan trakea')\n",
    "\n",
    "class Paus(Hewan):\n",
    "    def __init__(self, id_jenis_hewan, nama_jenis_hewan, ciri_hewan, id_paus, nama_paus):\n",
    "        super().__init__( id_jenis_hewan, nama_jenis_hewan, ciri_hewan)\n",
    "        self.id_paus = id_paus\n",
    "        self.nama_paus = nama_paus\n",
    "  \n",
    "    def suara_hewan(self):\n",
    "        return super().suara_hewan(), 'ngaauuuuu ngggg'\n",
    "\n",
    "    def berjalan_hewan(self):\n",
    "        return super().berjalan_hewan(), 'Bergerak dengan sirip'\n",
    "\n",
    "    def bernafas_hewan(self):\n",
    "        return 'Paus bernafas menggunakan paru-paru'"
   ]
  },
  {
   "cell_type": "code",
   "execution_count": 17,
   "id": "31c63c53",
   "metadata": {},
   "outputs": [
    {
     "name": "stdout",
     "output_type": "stream",
     "text": [
      "id_jenis_hewan : ['Singa', 'Singa']\n",
      "nama_jenis_hewan : ['Mamalia', 'Mamalia']\n",
      "ciri_hewan : ['surai yang lebih menonjol dan lebih penuh yang menutupi seluruh kepala', 'Surai pendek gelap dan kurang berkembang']\n",
      "id_singa : ['L01', 'L02']\n",
      "nama_singa : ['Singa Afrika', 'Singa Asia']\n",
      "('Suara Hewan', 'Roarrrr')\n",
      "('Gerak Hewan', 'Bergerak dengan 4 Kaki')\n",
      "Singa bernafas menggunakan paru-paru\n",
      "None\n"
     ]
    }
   ],
   "source": [
    "singa1 = Singa('Singa', 'Mamalia', \n",
    "               'surai yang lebih menonjol dan lebih penuh yang menutupi seluruh kepala', 'L01', 'Singa Afrika')\n",
    "singa2 = Singa('Singa', 'Mamalia', 'Surai pendek gelap dan kurang berkembang', 'L02', 'Singa Asia')\n",
    "\n",
    "dicts1 = singa1.__dict__\n",
    "dicts2 = singa2.__dict__\n",
    "\n",
    "def merge(s1, s2):\n",
    "    sall = {}\n",
    "    for k in s1:\n",
    "        sall[k] = [s1[k], s2[k]]\n",
    "    return sall\n",
    "\n",
    "dictsall = merge(dicts1, dicts2)\n",
    "\n",
    "for i, j in dictsall.items():\n",
    "    print(i, ':', j)\n",
    "    \n",
    "print(singa1.suara_hewan())\n",
    "print(singa1.berjalan_hewan())\n",
    "print(singa1.bernafas_hewan())"
   ]
  },
  {
   "cell_type": "code",
   "execution_count": 18,
   "id": "753dbf36",
   "metadata": {},
   "outputs": [
    {
     "name": "stdout",
     "output_type": "stream",
     "text": [
      "id_jenis_hewan : ['Elang', 'Elang']\n",
      "nama_jenis_hewan : ['Unggas', 'Unggas']\n",
      "ciri_hewan : ['Warna dominan adalah merah-coklat', 'Sayap bersayap membentuk huruf “C”']\n",
      "id_elang : ['E01', 'E02']\n",
      "nama_elang : ['Elang Jawa', 'Elang Ular']\n",
      "('Suara Hewan', 'Eungiiiiiiiiiik')\n",
      "('Gerak Hewan', 'Bergerak dengan sayap dan 2 kaki')\n",
      "Elang bernafas menggunakan paru-paru\n",
      "None\n"
     ]
    }
   ],
   "source": [
    "elang1 = Elang('Elang', 'Unggas', 'Warna dominan adalah merah-coklat', 'E01', 'Elang Jawa')\n",
    "elang2 = Elang('Elang', 'Unggas', 'Sayap bersayap membentuk huruf “C”', 'E02', 'Elang Ular')\n",
    "\n",
    "dicte1 = elang1.__dict__\n",
    "dicte2 = elang2.__dict__\n",
    "\n",
    "def merge(e1, e2):\n",
    "    eall = {}\n",
    "    for k in e1:\n",
    "        eall[k] = [e1[k], e2[k]]\n",
    "    return eall\n",
    "\n",
    "dicteall = merge(dicte1, dicte2)\n",
    "\n",
    "for i, j in dicteall.items():\n",
    "    print(i, ':', j)\n",
    "    \n",
    "print(elang1.suara_hewan())\n",
    "print(elang1.berjalan_hewan())\n",
    "print(elang1.bernafas_hewan())"
   ]
  },
  {
   "cell_type": "code",
   "execution_count": 19,
   "id": "c9dbdbb4",
   "metadata": {},
   "outputs": [
    {
     "name": "stdout",
     "output_type": "stream",
     "text": [
      "id_jenis_hewan : ['Lebah', 'Lebah']\n",
      "nama_jenis_hewan : ['Serangga', 'Serangga']\n",
      "ciri_hewan : ['warna kuning hitam', 'warna hitam']\n",
      "id_lebah : ['B01', 'B02']\n",
      "nama_lebah : ['Lebah Madu', 'Lebah Tanah']\n",
      "('Suara Hewan', 'Eeeezzzz')\n",
      "('Gerak Hewan', 'Bergerak seperti angka 8')\n",
      "Lebah bernafas menggunakan trakea\n",
      "None\n"
     ]
    }
   ],
   "source": [
    "lebah1 = Lebah('Lebah', 'Serangga', 'warna kuning hitam', 'B01', 'Lebah Madu')\n",
    "lebah2 = Lebah('Lebah', 'Serangga', 'warna hitam', 'B02', 'Lebah Tanah')\n",
    "\n",
    "dictl1 = lebah1.__dict__\n",
    "dictl2 = lebah2.__dict__\n",
    "\n",
    "def merge(l1, l2):\n",
    "    lall = {}\n",
    "    for k in l1:\n",
    "        lall[k] = [l1[k], l2[k]]\n",
    "    return lall\n",
    "\n",
    "dictlall = merge(dictl1, dictl2)\n",
    "\n",
    "for i, j in dictlall.items():\n",
    "    print(i, ':', j)\n",
    "    \n",
    "print(lebah1.suara_hewan())\n",
    "print(lebah1.berjalan_hewan())\n",
    "print(lebah1.bernafas_hewan())"
   ]
  },
  {
   "cell_type": "code",
   "execution_count": 20,
   "id": "dc3f6b4e",
   "metadata": {},
   "outputs": [
    {
     "name": "stdout",
     "output_type": "stream",
     "text": [
      "id_jenis_hewan : ['Paus', 'Paus']\n",
      "nama_jenis_hewan : ['Mamalia', 'Mamalia']\n",
      "ciri_hewan : ['Badan besar dan lambat berenang', 'terdapat sebuah benjolan di atas kepalanya, sirip yang panjang']\n",
      "id_paus : ['W01', 'W02']\n",
      "nama_paus : ['Paus Biru', 'Paus Bungkuk']\n",
      "('Suara Hewan', 'ngaauuuuu ngggg')\n",
      "('Gerak Hewan', 'Bergerak dengan sirip')\n",
      "Paus bernafas menggunakan paru-paru\n"
     ]
    }
   ],
   "source": [
    "paus1 = Paus('Paus', 'Mamalia', 'Badan besar dan lambat berenang', 'W01', 'Paus Biru')\n",
    "paus2 = Paus('Paus', 'Mamalia', 'terdapat sebuah benjolan di atas kepalanya, sirip yang panjang', 'W02', 'Paus Bungkuk')\n",
    "\n",
    "dictp1 = paus1.__dict__\n",
    "dictp2 = paus2.__dict__\n",
    "\n",
    "def merge(p1, p2):\n",
    "    pall = {}\n",
    "    for k in p1:\n",
    "        pall[k] = [p1[k], p2[k]]\n",
    "    return pall\n",
    "\n",
    "dictpall = merge(dictp1, dictp2)\n",
    "\n",
    "for i, j in dictpall.items():\n",
    "    print(i, ':', j)\n",
    "    \n",
    "print(paus1.suara_hewan())\n",
    "print(paus1.berjalan_hewan())\n",
    "print(paus1.bernafas_hewan())"
   ]
  },
  {
   "cell_type": "code",
   "execution_count": null,
   "id": "2d783a6e",
   "metadata": {},
   "outputs": [],
   "source": []
  }
 ],
 "metadata": {
  "kernelspec": {
   "display_name": "Python 3",
   "language": "python",
   "name": "python3"
  },
  "language_info": {
   "codemirror_mode": {
    "name": "ipython",
    "version": 3
   },
   "file_extension": ".py",
   "mimetype": "text/x-python",
   "name": "python",
   "nbconvert_exporter": "python",
   "pygments_lexer": "ipython3",
   "version": "3.8.8"
  }
 },
 "nbformat": 4,
 "nbformat_minor": 5
}
